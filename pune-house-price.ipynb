{
 "cells": [
  {
   "cell_type": "code",
   "execution_count": 1,
   "id": "e3f074b5",
   "metadata": {
    "execution": {
     "iopub.execute_input": "2025-07-21T16:46:18.965719Z",
     "iopub.status.busy": "2025-07-21T16:46:18.965347Z",
     "iopub.status.idle": "2025-07-21T16:46:21.627714Z",
     "shell.execute_reply": "2025-07-21T16:46:21.626628Z"
    },
    "papermill": {
     "duration": 2.677792,
     "end_time": "2025-07-21T16:46:21.630225",
     "exception": false,
     "start_time": "2025-07-21T16:46:18.952433",
     "status": "completed"
    },
    "tags": []
   },
   "outputs": [],
   "source": [
    "import numpy as np\n",
    "import pandas as pd\n",
    "import matplotlib.pyplot as plt\n",
    "import seaborn as sns\n",
    "import warnings\n",
    "warnings.filterwarnings(\"ignore\")"
   ]
  },
  {
   "cell_type": "code",
   "execution_count": 2,
   "id": "d6225ed7",
   "metadata": {
    "execution": {
     "iopub.execute_input": "2025-07-21T16:46:21.653003Z",
     "iopub.status.busy": "2025-07-21T16:46:21.652470Z",
     "iopub.status.idle": "2025-07-21T16:46:21.725793Z",
     "shell.execute_reply": "2025-07-21T16:46:21.724771Z"
    },
    "papermill": {
     "duration": 0.087608,
     "end_time": "2025-07-21T16:46:21.728730",
     "exception": false,
     "start_time": "2025-07-21T16:46:21.641122",
     "status": "completed"
    },
    "tags": []
   },
   "outputs": [],
   "source": [
    "df = pd.read_csv('../input/pune-house-data/Pune house data.csv')"
   ]
  },
  {
   "cell_type": "code",
   "execution_count": 3,
   "id": "7ab1334a",
   "metadata": {
    "execution": {
     "iopub.execute_input": "2025-07-21T16:46:21.756353Z",
     "iopub.status.busy": "2025-07-21T16:46:21.755979Z",
     "iopub.status.idle": "2025-07-21T16:46:21.788180Z",
     "shell.execute_reply": "2025-07-21T16:46:21.786991Z"
    },
    "papermill": {
     "duration": 0.046111,
     "end_time": "2025-07-21T16:46:21.790479",
     "exception": false,
     "start_time": "2025-07-21T16:46:21.744368",
     "status": "completed"
    },
    "tags": []
   },
   "outputs": [
    {
     "data": {
      "text/html": [
       "<div>\n",
       "<style scoped>\n",
       "    .dataframe tbody tr th:only-of-type {\n",
       "        vertical-align: middle;\n",
       "    }\n",
       "\n",
       "    .dataframe tbody tr th {\n",
       "        vertical-align: top;\n",
       "    }\n",
       "\n",
       "    .dataframe thead th {\n",
       "        text-align: right;\n",
       "    }\n",
       "</style>\n",
       "<table border=\"1\" class=\"dataframe\">\n",
       "  <thead>\n",
       "    <tr style=\"text-align: right;\">\n",
       "      <th></th>\n",
       "      <th>area_type</th>\n",
       "      <th>availability</th>\n",
       "      <th>size</th>\n",
       "      <th>society</th>\n",
       "      <th>total_sqft</th>\n",
       "      <th>bath</th>\n",
       "      <th>balcony</th>\n",
       "      <th>price</th>\n",
       "      <th>site_location</th>\n",
       "    </tr>\n",
       "  </thead>\n",
       "  <tbody>\n",
       "    <tr>\n",
       "      <th>0</th>\n",
       "      <td>Super built-up  Area</td>\n",
       "      <td>19-Dec</td>\n",
       "      <td>2 BHK</td>\n",
       "      <td>Coomee</td>\n",
       "      <td>1056</td>\n",
       "      <td>2.0</td>\n",
       "      <td>1.0</td>\n",
       "      <td>39.07</td>\n",
       "      <td>Alandi Road</td>\n",
       "    </tr>\n",
       "    <tr>\n",
       "      <th>1</th>\n",
       "      <td>Plot  Area</td>\n",
       "      <td>Ready To Move</td>\n",
       "      <td>4 Bedroom</td>\n",
       "      <td>Theanmp</td>\n",
       "      <td>2600</td>\n",
       "      <td>5.0</td>\n",
       "      <td>3.0</td>\n",
       "      <td>120.00</td>\n",
       "      <td>Ambegaon Budruk</td>\n",
       "    </tr>\n",
       "    <tr>\n",
       "      <th>2</th>\n",
       "      <td>Built-up  Area</td>\n",
       "      <td>Ready To Move</td>\n",
       "      <td>3 BHK</td>\n",
       "      <td>NaN</td>\n",
       "      <td>1440</td>\n",
       "      <td>2.0</td>\n",
       "      <td>3.0</td>\n",
       "      <td>62.00</td>\n",
       "      <td>Anandnagar</td>\n",
       "    </tr>\n",
       "    <tr>\n",
       "      <th>3</th>\n",
       "      <td>Super built-up  Area</td>\n",
       "      <td>Ready To Move</td>\n",
       "      <td>3 BHK</td>\n",
       "      <td>Soiewre</td>\n",
       "      <td>1521</td>\n",
       "      <td>3.0</td>\n",
       "      <td>1.0</td>\n",
       "      <td>95.00</td>\n",
       "      <td>Aundh</td>\n",
       "    </tr>\n",
       "    <tr>\n",
       "      <th>4</th>\n",
       "      <td>Super built-up  Area</td>\n",
       "      <td>Ready To Move</td>\n",
       "      <td>2 BHK</td>\n",
       "      <td>NaN</td>\n",
       "      <td>1200</td>\n",
       "      <td>2.0</td>\n",
       "      <td>1.0</td>\n",
       "      <td>51.00</td>\n",
       "      <td>Aundh Road</td>\n",
       "    </tr>\n",
       "    <tr>\n",
       "      <th>...</th>\n",
       "      <td>...</td>\n",
       "      <td>...</td>\n",
       "      <td>...</td>\n",
       "      <td>...</td>\n",
       "      <td>...</td>\n",
       "      <td>...</td>\n",
       "      <td>...</td>\n",
       "      <td>...</td>\n",
       "      <td>...</td>\n",
       "    </tr>\n",
       "    <tr>\n",
       "      <th>13315</th>\n",
       "      <td>Built-up  Area</td>\n",
       "      <td>Ready To Move</td>\n",
       "      <td>5 Bedroom</td>\n",
       "      <td>ArsiaEx</td>\n",
       "      <td>3453</td>\n",
       "      <td>4.0</td>\n",
       "      <td>0.0</td>\n",
       "      <td>231.00</td>\n",
       "      <td>Pashan</td>\n",
       "    </tr>\n",
       "    <tr>\n",
       "      <th>13316</th>\n",
       "      <td>Super built-up  Area</td>\n",
       "      <td>Ready To Move</td>\n",
       "      <td>4 BHK</td>\n",
       "      <td>NaN</td>\n",
       "      <td>3600</td>\n",
       "      <td>5.0</td>\n",
       "      <td>NaN</td>\n",
       "      <td>400.00</td>\n",
       "      <td>Paud Road</td>\n",
       "    </tr>\n",
       "    <tr>\n",
       "      <th>13317</th>\n",
       "      <td>Built-up  Area</td>\n",
       "      <td>Ready To Move</td>\n",
       "      <td>2 BHK</td>\n",
       "      <td>Mahla T</td>\n",
       "      <td>1141</td>\n",
       "      <td>2.0</td>\n",
       "      <td>1.0</td>\n",
       "      <td>60.00</td>\n",
       "      <td>Pirangut</td>\n",
       "    </tr>\n",
       "    <tr>\n",
       "      <th>13318</th>\n",
       "      <td>Super built-up  Area</td>\n",
       "      <td>18-Jun</td>\n",
       "      <td>4 BHK</td>\n",
       "      <td>SollyCl</td>\n",
       "      <td>4689</td>\n",
       "      <td>4.0</td>\n",
       "      <td>1.0</td>\n",
       "      <td>488.00</td>\n",
       "      <td>Prabhat Road</td>\n",
       "    </tr>\n",
       "    <tr>\n",
       "      <th>13319</th>\n",
       "      <td>Super built-up  Area</td>\n",
       "      <td>Ready To Move</td>\n",
       "      <td>1 BHK</td>\n",
       "      <td>NaN</td>\n",
       "      <td>550</td>\n",
       "      <td>1.0</td>\n",
       "      <td>1.0</td>\n",
       "      <td>17.00</td>\n",
       "      <td>Pune Railway Station</td>\n",
       "    </tr>\n",
       "  </tbody>\n",
       "</table>\n",
       "<p>13320 rows × 9 columns</p>\n",
       "</div>"
      ],
      "text/plain": [
       "                  area_type   availability       size  society total_sqft  \\\n",
       "0      Super built-up  Area         19-Dec      2 BHK  Coomee        1056   \n",
       "1                Plot  Area  Ready To Move  4 Bedroom  Theanmp       2600   \n",
       "2            Built-up  Area  Ready To Move      3 BHK      NaN       1440   \n",
       "3      Super built-up  Area  Ready To Move      3 BHK  Soiewre       1521   \n",
       "4      Super built-up  Area  Ready To Move      2 BHK      NaN       1200   \n",
       "...                     ...            ...        ...      ...        ...   \n",
       "13315        Built-up  Area  Ready To Move  5 Bedroom  ArsiaEx       3453   \n",
       "13316  Super built-up  Area  Ready To Move      4 BHK      NaN       3600   \n",
       "13317        Built-up  Area  Ready To Move      2 BHK  Mahla T       1141   \n",
       "13318  Super built-up  Area         18-Jun      4 BHK  SollyCl       4689   \n",
       "13319  Super built-up  Area  Ready To Move      1 BHK      NaN        550   \n",
       "\n",
       "       bath  balcony   price         site_location  \n",
       "0       2.0      1.0   39.07           Alandi Road  \n",
       "1       5.0      3.0  120.00       Ambegaon Budruk  \n",
       "2       2.0      3.0   62.00            Anandnagar  \n",
       "3       3.0      1.0   95.00                 Aundh  \n",
       "4       2.0      1.0   51.00            Aundh Road  \n",
       "...     ...      ...     ...                   ...  \n",
       "13315   4.0      0.0  231.00                Pashan  \n",
       "13316   5.0      NaN  400.00             Paud Road  \n",
       "13317   2.0      1.0   60.00              Pirangut  \n",
       "13318   4.0      1.0  488.00          Prabhat Road  \n",
       "13319   1.0      1.0   17.00  Pune Railway Station  \n",
       "\n",
       "[13320 rows x 9 columns]"
      ]
     },
     "execution_count": 3,
     "metadata": {},
     "output_type": "execute_result"
    }
   ],
   "source": [
    "df"
   ]
  },
  {
   "cell_type": "markdown",
   "id": "fd1b1fdf",
   "metadata": {
    "papermill": {
     "duration": 0.010295,
     "end_time": "2025-07-21T16:46:21.812013",
     "exception": false,
     "start_time": "2025-07-21T16:46:21.801718",
     "status": "completed"
    },
    "tags": []
   },
   "source": [
    "## Check Data"
   ]
  },
  {
   "cell_type": "code",
   "execution_count": 4,
   "id": "a37d0a8b",
   "metadata": {
    "execution": {
     "iopub.execute_input": "2025-07-21T16:46:21.835746Z",
     "iopub.status.busy": "2025-07-21T16:46:21.835254Z",
     "iopub.status.idle": "2025-07-21T16:46:21.867533Z",
     "shell.execute_reply": "2025-07-21T16:46:21.866444Z"
    },
    "papermill": {
     "duration": 0.047864,
     "end_time": "2025-07-21T16:46:21.870278",
     "exception": false,
     "start_time": "2025-07-21T16:46:21.822414",
     "status": "completed"
    },
    "tags": []
   },
   "outputs": [
    {
     "name": "stdout",
     "output_type": "stream",
     "text": [
      "<class 'pandas.core.frame.DataFrame'>\n",
      "RangeIndex: 13320 entries, 0 to 13319\n",
      "Data columns (total 9 columns):\n",
      " #   Column         Non-Null Count  Dtype  \n",
      "---  ------         --------------  -----  \n",
      " 0   area_type      13320 non-null  object \n",
      " 1   availability   13320 non-null  object \n",
      " 2   size           13304 non-null  object \n",
      " 3   society        7818 non-null   object \n",
      " 4   total_sqft     13320 non-null  object \n",
      " 5   bath           13247 non-null  float64\n",
      " 6   balcony        12711 non-null  float64\n",
      " 7   price          13320 non-null  float64\n",
      " 8   site_location  13319 non-null  object \n",
      "dtypes: float64(3), object(6)\n",
      "memory usage: 936.7+ KB\n"
     ]
    }
   ],
   "source": [
    "df.info()"
   ]
  },
  {
   "cell_type": "code",
   "execution_count": 5,
   "id": "485cf8d0",
   "metadata": {
    "execution": {
     "iopub.execute_input": "2025-07-21T16:46:21.901023Z",
     "iopub.status.busy": "2025-07-21T16:46:21.900619Z",
     "iopub.status.idle": "2025-07-21T16:46:21.913906Z",
     "shell.execute_reply": "2025-07-21T16:46:21.912782Z"
    },
    "papermill": {
     "duration": 0.027529,
     "end_time": "2025-07-21T16:46:21.915964",
     "exception": false,
     "start_time": "2025-07-21T16:46:21.888435",
     "status": "completed"
    },
    "tags": []
   },
   "outputs": [
    {
     "data": {
      "text/plain": [
       "area_type           0\n",
       "availability        0\n",
       "size               16\n",
       "society          5502\n",
       "total_sqft          0\n",
       "bath               73\n",
       "balcony           609\n",
       "price               0\n",
       "site_location       1\n",
       "dtype: int64"
      ]
     },
     "execution_count": 5,
     "metadata": {},
     "output_type": "execute_result"
    }
   ],
   "source": [
    "df.isna().sum()"
   ]
  },
  {
   "cell_type": "code",
   "execution_count": 6,
   "id": "531f042d",
   "metadata": {
    "execution": {
     "iopub.execute_input": "2025-07-21T16:46:21.939579Z",
     "iopub.status.busy": "2025-07-21T16:46:21.939080Z",
     "iopub.status.idle": "2025-07-21T16:46:21.961044Z",
     "shell.execute_reply": "2025-07-21T16:46:21.959848Z"
    },
    "papermill": {
     "duration": 0.036548,
     "end_time": "2025-07-21T16:46:21.963299",
     "exception": false,
     "start_time": "2025-07-21T16:46:21.926751",
     "status": "completed"
    },
    "tags": []
   },
   "outputs": [
    {
     "data": {
      "text/html": [
       "<div>\n",
       "<style scoped>\n",
       "    .dataframe tbody tr th:only-of-type {\n",
       "        vertical-align: middle;\n",
       "    }\n",
       "\n",
       "    .dataframe tbody tr th {\n",
       "        vertical-align: top;\n",
       "    }\n",
       "\n",
       "    .dataframe thead th {\n",
       "        text-align: right;\n",
       "    }\n",
       "</style>\n",
       "<table border=\"1\" class=\"dataframe\">\n",
       "  <thead>\n",
       "    <tr style=\"text-align: right;\">\n",
       "      <th></th>\n",
       "      <th>bath</th>\n",
       "      <th>balcony</th>\n",
       "      <th>price</th>\n",
       "    </tr>\n",
       "  </thead>\n",
       "  <tbody>\n",
       "    <tr>\n",
       "      <th>count</th>\n",
       "      <td>13247.000000</td>\n",
       "      <td>12711.000000</td>\n",
       "      <td>13320.000000</td>\n",
       "    </tr>\n",
       "    <tr>\n",
       "      <th>mean</th>\n",
       "      <td>2.692610</td>\n",
       "      <td>1.584376</td>\n",
       "      <td>112.565627</td>\n",
       "    </tr>\n",
       "    <tr>\n",
       "      <th>std</th>\n",
       "      <td>1.341458</td>\n",
       "      <td>0.817263</td>\n",
       "      <td>148.971674</td>\n",
       "    </tr>\n",
       "    <tr>\n",
       "      <th>min</th>\n",
       "      <td>1.000000</td>\n",
       "      <td>0.000000</td>\n",
       "      <td>8.000000</td>\n",
       "    </tr>\n",
       "    <tr>\n",
       "      <th>25%</th>\n",
       "      <td>2.000000</td>\n",
       "      <td>1.000000</td>\n",
       "      <td>50.000000</td>\n",
       "    </tr>\n",
       "    <tr>\n",
       "      <th>50%</th>\n",
       "      <td>2.000000</td>\n",
       "      <td>2.000000</td>\n",
       "      <td>72.000000</td>\n",
       "    </tr>\n",
       "    <tr>\n",
       "      <th>75%</th>\n",
       "      <td>3.000000</td>\n",
       "      <td>2.000000</td>\n",
       "      <td>120.000000</td>\n",
       "    </tr>\n",
       "    <tr>\n",
       "      <th>max</th>\n",
       "      <td>40.000000</td>\n",
       "      <td>3.000000</td>\n",
       "      <td>3600.000000</td>\n",
       "    </tr>\n",
       "  </tbody>\n",
       "</table>\n",
       "</div>"
      ],
      "text/plain": [
       "               bath       balcony         price\n",
       "count  13247.000000  12711.000000  13320.000000\n",
       "mean       2.692610      1.584376    112.565627\n",
       "std        1.341458      0.817263    148.971674\n",
       "min        1.000000      0.000000      8.000000\n",
       "25%        2.000000      1.000000     50.000000\n",
       "50%        2.000000      2.000000     72.000000\n",
       "75%        3.000000      2.000000    120.000000\n",
       "max       40.000000      3.000000   3600.000000"
      ]
     },
     "execution_count": 6,
     "metadata": {},
     "output_type": "execute_result"
    }
   ],
   "source": [
    "df.describe()"
   ]
  },
  {
   "cell_type": "code",
   "execution_count": 7,
   "id": "4c5a207b",
   "metadata": {
    "execution": {
     "iopub.execute_input": "2025-07-21T16:46:21.987761Z",
     "iopub.status.busy": "2025-07-21T16:46:21.986871Z",
     "iopub.status.idle": "2025-07-21T16:46:22.023816Z",
     "shell.execute_reply": "2025-07-21T16:46:22.022653Z"
    },
    "papermill": {
     "duration": 0.051659,
     "end_time": "2025-07-21T16:46:22.026169",
     "exception": false,
     "start_time": "2025-07-21T16:46:21.974510",
     "status": "completed"
    },
    "tags": []
   },
   "outputs": [
    {
     "data": {
      "text/html": [
       "<div>\n",
       "<style scoped>\n",
       "    .dataframe tbody tr th:only-of-type {\n",
       "        vertical-align: middle;\n",
       "    }\n",
       "\n",
       "    .dataframe tbody tr th {\n",
       "        vertical-align: top;\n",
       "    }\n",
       "\n",
       "    .dataframe thead th {\n",
       "        text-align: right;\n",
       "    }\n",
       "</style>\n",
       "<table border=\"1\" class=\"dataframe\">\n",
       "  <thead>\n",
       "    <tr style=\"text-align: right;\">\n",
       "      <th></th>\n",
       "      <th>area_type</th>\n",
       "      <th>availability</th>\n",
       "      <th>size</th>\n",
       "      <th>society</th>\n",
       "      <th>total_sqft</th>\n",
       "      <th>site_location</th>\n",
       "    </tr>\n",
       "  </thead>\n",
       "  <tbody>\n",
       "    <tr>\n",
       "      <th>count</th>\n",
       "      <td>13320</td>\n",
       "      <td>13320</td>\n",
       "      <td>13304</td>\n",
       "      <td>7818</td>\n",
       "      <td>13320</td>\n",
       "      <td>13319</td>\n",
       "    </tr>\n",
       "    <tr>\n",
       "      <th>unique</th>\n",
       "      <td>4</td>\n",
       "      <td>81</td>\n",
       "      <td>31</td>\n",
       "      <td>2688</td>\n",
       "      <td>2117</td>\n",
       "      <td>97</td>\n",
       "    </tr>\n",
       "    <tr>\n",
       "      <th>top</th>\n",
       "      <td>Super built-up  Area</td>\n",
       "      <td>Ready To Move</td>\n",
       "      <td>2 BHK</td>\n",
       "      <td>GrrvaGr</td>\n",
       "      <td>1200</td>\n",
       "      <td>Alandi Road</td>\n",
       "    </tr>\n",
       "    <tr>\n",
       "      <th>freq</th>\n",
       "      <td>8790</td>\n",
       "      <td>10581</td>\n",
       "      <td>5199</td>\n",
       "      <td>80</td>\n",
       "      <td>843</td>\n",
       "      <td>139</td>\n",
       "    </tr>\n",
       "  </tbody>\n",
       "</table>\n",
       "</div>"
      ],
      "text/plain": [
       "                   area_type   availability   size  society total_sqft  \\\n",
       "count                  13320          13320  13304     7818      13320   \n",
       "unique                     4             81     31     2688       2117   \n",
       "top     Super built-up  Area  Ready To Move  2 BHK  GrrvaGr       1200   \n",
       "freq                    8790          10581   5199       80        843   \n",
       "\n",
       "       site_location  \n",
       "count          13319  \n",
       "unique            97  \n",
       "top      Alandi Road  \n",
       "freq             139  "
      ]
     },
     "execution_count": 7,
     "metadata": {},
     "output_type": "execute_result"
    }
   ],
   "source": [
    "df.describe(include='object')"
   ]
  },
  {
   "cell_type": "code",
   "execution_count": 8,
   "id": "bb51a4a9",
   "metadata": {
    "execution": {
     "iopub.execute_input": "2025-07-21T16:46:22.056113Z",
     "iopub.status.busy": "2025-07-21T16:46:22.055251Z",
     "iopub.status.idle": "2025-07-21T16:46:22.064924Z",
     "shell.execute_reply": "2025-07-21T16:46:22.063387Z"
    },
    "papermill": {
     "duration": 0.028845,
     "end_time": "2025-07-21T16:46:22.067865",
     "exception": false,
     "start_time": "2025-07-21T16:46:22.039020",
     "status": "completed"
    },
    "tags": []
   },
   "outputs": [],
   "source": [
    "society= df['society'].value_counts()"
   ]
  },
  {
   "cell_type": "code",
   "execution_count": 9,
   "id": "28a9e92d",
   "metadata": {
    "execution": {
     "iopub.execute_input": "2025-07-21T16:46:22.103065Z",
     "iopub.status.busy": "2025-07-21T16:46:22.101996Z",
     "iopub.status.idle": "2025-07-21T16:46:22.112545Z",
     "shell.execute_reply": "2025-07-21T16:46:22.111402Z"
    },
    "papermill": {
     "duration": 0.027037,
     "end_time": "2025-07-21T16:46:22.115463",
     "exception": false,
     "start_time": "2025-07-21T16:46:22.088426",
     "status": "completed"
    },
    "tags": []
   },
   "outputs": [
    {
     "data": {
      "text/plain": [
       "society\n",
       "VDarmlo    1\n",
       "Redarav    1\n",
       "Apvas N    1\n",
       "HMriast    1\n",
       "ViaarSa    1\n",
       "          ..\n",
       "Amionce    1\n",
       "JaghtDe    1\n",
       "Jauraht    1\n",
       "Brity U    1\n",
       "RSntsAp    1\n",
       "Name: count, Length: 1500, dtype: int64"
      ]
     },
     "execution_count": 9,
     "metadata": {},
     "output_type": "execute_result"
    }
   ],
   "source": [
    "society.tail(1500)"
   ]
  },
  {
   "cell_type": "code",
   "execution_count": 10,
   "id": "0e721571",
   "metadata": {
    "execution": {
     "iopub.execute_input": "2025-07-21T16:46:22.148006Z",
     "iopub.status.busy": "2025-07-21T16:46:22.147091Z",
     "iopub.status.idle": "2025-07-21T16:46:22.156088Z",
     "shell.execute_reply": "2025-07-21T16:46:22.155040Z"
    },
    "papermill": {
     "duration": 0.028803,
     "end_time": "2025-07-21T16:46:22.158286",
     "exception": false,
     "start_time": "2025-07-21T16:46:22.129483",
     "status": "completed"
    },
    "tags": []
   },
   "outputs": [],
   "source": [
    "df= df.drop(\"society\", axis=1)"
   ]
  },
  {
   "cell_type": "markdown",
   "id": "ecb248ba",
   "metadata": {
    "papermill": {
     "duration": 0.019501,
     "end_time": "2025-07-21T16:46:22.191039",
     "exception": false,
     "start_time": "2025-07-21T16:46:22.171538",
     "status": "completed"
    },
    "tags": []
   },
   "source": [
    "## Split Data"
   ]
  },
  {
   "cell_type": "code",
   "execution_count": 11,
   "id": "620fc988",
   "metadata": {
    "execution": {
     "iopub.execute_input": "2025-07-21T16:46:22.216347Z",
     "iopub.status.busy": "2025-07-21T16:46:22.215938Z",
     "iopub.status.idle": "2025-07-21T16:46:22.516421Z",
     "shell.execute_reply": "2025-07-21T16:46:22.515236Z"
    },
    "papermill": {
     "duration": 0.31656,
     "end_time": "2025-07-21T16:46:22.519100",
     "exception": false,
     "start_time": "2025-07-21T16:46:22.202540",
     "status": "completed"
    },
    "tags": []
   },
   "outputs": [],
   "source": [
    "X = df.drop(columns = ['price'])\n",
    "y = df['price']\n",
    "\n",
    "from sklearn.model_selection import train_test_split\n",
    "X_train, X_test, y_train,y_test = train_test_split(X,y,test_size=0.2,random_state=42)"
   ]
  },
  {
   "cell_type": "markdown",
   "id": "32c93e0c",
   "metadata": {
    "papermill": {
     "duration": 0.010885,
     "end_time": "2025-07-21T16:46:22.542516",
     "exception": false,
     "start_time": "2025-07-21T16:46:22.531631",
     "status": "completed"
    },
    "tags": []
   },
   "source": [
    "#### Availability Column"
   ]
  },
  {
   "cell_type": "code",
   "execution_count": 12,
   "id": "8edb618d",
   "metadata": {
    "execution": {
     "iopub.execute_input": "2025-07-21T16:46:22.568504Z",
     "iopub.status.busy": "2025-07-21T16:46:22.567705Z",
     "iopub.status.idle": "2025-07-21T16:46:22.575966Z",
     "shell.execute_reply": "2025-07-21T16:46:22.574878Z"
    },
    "papermill": {
     "duration": 0.023164,
     "end_time": "2025-07-21T16:46:22.578306",
     "exception": false,
     "start_time": "2025-07-21T16:46:22.555142",
     "status": "completed"
    },
    "tags": []
   },
   "outputs": [
    {
     "data": {
      "text/plain": [
       "array(['19-Dec', 'Ready To Move', '18-May', '18-Feb', '18-Nov', '20-Dec',\n",
       "       '17-Oct', '21-Dec', '19-Sep', '20-Sep', '18-Mar', '20-Feb',\n",
       "       '18-Apr', '20-Aug', '18-Oct', '19-Mar', '17-Sep', '18-Dec',\n",
       "       '17-Aug', '19-Apr', '18-Jun', '22-Dec', '22-Jan', '18-Aug',\n",
       "       '19-Jan', '17-Jul', '18-Jul', '21-Jun', '20-May', '19-Aug',\n",
       "       '18-Sep', '17-May', '17-Jun', '21-May', '18-Jan', '20-Mar',\n",
       "       '17-Dec', '16-Mar', '19-Jun', '22-Jun', '19-Jul', '21-Feb',\n",
       "       'Immediate Possession', '19-May', '17-Nov', '20-Oct', '20-Jun',\n",
       "       '19-Feb', '21-Oct', '21-Jan', '17-Mar', '17-Apr', '22-May',\n",
       "       '19-Oct', '21-Jul', '21-Nov', '21-Mar', '16-Dec', '22-Mar',\n",
       "       '20-Jan', '21-Sep', '21-Aug', '14-Nov', '19-Nov', '15-Nov',\n",
       "       '16-Jul', '15-Jun', '17-Feb', '20-Nov', '20-Jul', '16-Sep',\n",
       "       '15-Oct', '15-Dec', '16-Oct', '22-Nov', '15-Aug', '17-Jan',\n",
       "       '16-Nov', '20-Apr', '16-Jan', '14-Jul'], dtype=object)"
      ]
     },
     "execution_count": 12,
     "metadata": {},
     "output_type": "execute_result"
    }
   ],
   "source": [
    "df['availability'].unique()\n"
   ]
  },
  {
   "cell_type": "code",
   "execution_count": 13,
   "id": "9ba36daf",
   "metadata": {
    "execution": {
     "iopub.execute_input": "2025-07-21T16:46:22.604789Z",
     "iopub.status.busy": "2025-07-21T16:46:22.603934Z",
     "iopub.status.idle": "2025-07-21T16:46:22.613585Z",
     "shell.execute_reply": "2025-07-21T16:46:22.612295Z"
    },
    "papermill": {
     "duration": 0.024485,
     "end_time": "2025-07-21T16:46:22.615721",
     "exception": false,
     "start_time": "2025-07-21T16:46:22.591236",
     "status": "completed"
    },
    "scrolled": true,
    "tags": []
   },
   "outputs": [
    {
     "data": {
      "text/plain": [
       "availability\n",
       "Ready To Move    10581\n",
       "18-Dec             307\n",
       "18-May             295\n",
       "18-Apr             271\n",
       "18-Aug             200\n",
       "                 ...  \n",
       "15-Aug               1\n",
       "17-Jan               1\n",
       "16-Nov               1\n",
       "16-Jan               1\n",
       "14-Jul               1\n",
       "Name: count, Length: 81, dtype: int64"
      ]
     },
     "execution_count": 13,
     "metadata": {},
     "output_type": "execute_result"
    }
   ],
   "source": [
    "df['availability'].value_counts()"
   ]
  },
  {
   "cell_type": "code",
   "execution_count": 14,
   "id": "82a8a09c",
   "metadata": {
    "execution": {
     "iopub.execute_input": "2025-07-21T16:46:22.641228Z",
     "iopub.status.busy": "2025-07-21T16:46:22.640837Z",
     "iopub.status.idle": "2025-07-21T16:46:22.651499Z",
     "shell.execute_reply": "2025-07-21T16:46:22.650312Z"
    },
    "papermill": {
     "duration": 0.026274,
     "end_time": "2025-07-21T16:46:22.653668",
     "exception": false,
     "start_time": "2025-07-21T16:46:22.627394",
     "status": "completed"
    },
    "tags": []
   },
   "outputs": [],
   "source": [
    "#we can vhange all the dates with Not Ready to move and Ready To Move or Immediate Possession to Ready to move\n",
    "def availabity(val):\n",
    "    if val=='Ready To Move' or val== 'Immediate Possession':\n",
    "        return 'Ready to Move'\n",
    "    else:\n",
    "        return 'Not Ready to Move'\n",
    "\n",
    "X_train['availability'] = X_train['availability'].apply(availabity)\n",
    "X_test['availability'] = X_test['availability'].apply(availabity)\n"
   ]
  },
  {
   "cell_type": "code",
   "execution_count": 15,
   "id": "e5349390",
   "metadata": {
    "execution": {
     "iopub.execute_input": "2025-07-21T16:46:22.678153Z",
     "iopub.status.busy": "2025-07-21T16:46:22.677708Z",
     "iopub.status.idle": "2025-07-21T16:46:22.687116Z",
     "shell.execute_reply": "2025-07-21T16:46:22.686123Z"
    },
    "papermill": {
     "duration": 0.024078,
     "end_time": "2025-07-21T16:46:22.689302",
     "exception": false,
     "start_time": "2025-07-21T16:46:22.665224",
     "status": "completed"
    },
    "tags": []
   },
   "outputs": [
    {
     "data": {
      "text/plain": [
       "availability\n",
       "Ready to Move        8480\n",
       "Not Ready to Move    2176\n",
       "Name: count, dtype: int64"
      ]
     },
     "execution_count": 15,
     "metadata": {},
     "output_type": "execute_result"
    }
   ],
   "source": [
    "X_train['availability'].value_counts()"
   ]
  },
  {
   "cell_type": "markdown",
   "id": "7c296102",
   "metadata": {
    "papermill": {
     "duration": 0.010954,
     "end_time": "2025-07-21T16:46:22.712352",
     "exception": false,
     "start_time": "2025-07-21T16:46:22.701398",
     "status": "completed"
    },
    "tags": []
   },
   "source": [
    "#### Size Column"
   ]
  },
  {
   "cell_type": "code",
   "execution_count": 16,
   "id": "e8c4569e",
   "metadata": {
    "execution": {
     "iopub.execute_input": "2025-07-21T16:46:22.736529Z",
     "iopub.status.busy": "2025-07-21T16:46:22.736135Z",
     "iopub.status.idle": "2025-07-21T16:46:22.743896Z",
     "shell.execute_reply": "2025-07-21T16:46:22.742827Z"
    },
    "papermill": {
     "duration": 0.022316,
     "end_time": "2025-07-21T16:46:22.745979",
     "exception": false,
     "start_time": "2025-07-21T16:46:22.723663",
     "status": "completed"
    },
    "tags": []
   },
   "outputs": [
    {
     "data": {
      "text/plain": [
       "array(['2 BHK', '4 Bedroom', '3 BHK', '4 BHK', '6 Bedroom', '3 Bedroom',\n",
       "       '1 BHK', '1 RK', '1 Bedroom', '8 Bedroom', '2 Bedroom',\n",
       "       '7 Bedroom', '5 BHK', '7 BHK', '6 BHK', '5 Bedroom', '11 BHK',\n",
       "       '9 BHK', nan, '9 Bedroom', '27 BHK', '10 Bedroom', '11 Bedroom',\n",
       "       '10 BHK', '19 BHK', '16 BHK', '43 Bedroom', '14 BHK', '8 BHK',\n",
       "       '12 Bedroom', '13 BHK', '18 Bedroom'], dtype=object)"
      ]
     },
     "execution_count": 16,
     "metadata": {},
     "output_type": "execute_result"
    }
   ],
   "source": [
    "df['size'].unique()"
   ]
  },
  {
   "cell_type": "code",
   "execution_count": 17,
   "id": "956abcd5",
   "metadata": {
    "execution": {
     "iopub.execute_input": "2025-07-21T16:46:22.770330Z",
     "iopub.status.busy": "2025-07-21T16:46:22.769970Z",
     "iopub.status.idle": "2025-07-21T16:46:22.814092Z",
     "shell.execute_reply": "2025-07-21T16:46:22.813114Z"
    },
    "papermill": {
     "duration": 0.058966,
     "end_time": "2025-07-21T16:46:22.816439",
     "exception": false,
     "start_time": "2025-07-21T16:46:22.757473",
     "status": "completed"
    },
    "tags": []
   },
   "outputs": [],
   "source": [
    "#remove the string and make column float \n",
    "X_train['size'] = X_train['size'].astype(str)\n",
    "X_train['size'] = X_train['size'].str.extract('(\\d+)').astype('float64')\n",
    "\n",
    "\n",
    "X_test['size'] = X_test['size'].astype(str)\n",
    "X_test['size'] = X_test['size'].str.extract('(\\d+)').astype('float64')\n",
    "\n",
    "\n",
    "df['size'] = df['size'].astype(str)\n",
    "df['size'] = df['size'].str.extract('(\\d+)').astype('float64')\n"
   ]
  },
  {
   "cell_type": "code",
   "execution_count": 18,
   "id": "17a37968",
   "metadata": {
    "execution": {
     "iopub.execute_input": "2025-07-21T16:46:22.841494Z",
     "iopub.status.busy": "2025-07-21T16:46:22.841102Z",
     "iopub.status.idle": "2025-07-21T16:46:22.849771Z",
     "shell.execute_reply": "2025-07-21T16:46:22.848752Z"
    },
    "papermill": {
     "duration": 0.02372,
     "end_time": "2025-07-21T16:46:22.851930",
     "exception": false,
     "start_time": "2025-07-21T16:46:22.828210",
     "status": "completed"
    },
    "tags": []
   },
   "outputs": [
    {
     "data": {
      "text/plain": [
       "array([ 3.,  2.,  4.,  1.,  8.,  9.,  5., 27., 11.,  6.,  7., nan, 10.,\n",
       "       16., 13., 12., 14., 18.])"
      ]
     },
     "execution_count": 18,
     "metadata": {},
     "output_type": "execute_result"
    }
   ],
   "source": [
    "X_train['size'].unique()"
   ]
  },
  {
   "cell_type": "markdown",
   "id": "15bf3b31",
   "metadata": {
    "papermill": {
     "duration": 0.011336,
     "end_time": "2025-07-21T16:46:22.875027",
     "exception": false,
     "start_time": "2025-07-21T16:46:22.863691",
     "status": "completed"
    },
    "tags": []
   },
   "source": [
    "#### Total sqft Column"
   ]
  },
  {
   "cell_type": "code",
   "execution_count": 19,
   "id": "e08e6d8f",
   "metadata": {
    "execution": {
     "iopub.execute_input": "2025-07-21T16:46:22.900647Z",
     "iopub.status.busy": "2025-07-21T16:46:22.899683Z",
     "iopub.status.idle": "2025-07-21T16:46:22.906998Z",
     "shell.execute_reply": "2025-07-21T16:46:22.905917Z"
    },
    "papermill": {
     "duration": 0.022296,
     "end_time": "2025-07-21T16:46:22.908995",
     "exception": false,
     "start_time": "2025-07-21T16:46:22.886699",
     "status": "completed"
    },
    "tags": []
   },
   "outputs": [
    {
     "data": {
      "text/plain": [
       "array(['1530', '1310', '2400', ..., '1440 - 1884', '3161', '1437'],\n",
       "      dtype=object)"
      ]
     },
     "execution_count": 19,
     "metadata": {},
     "output_type": "execute_result"
    }
   ],
   "source": [
    "X_train['total_sqft'].unique()"
   ]
  },
  {
   "cell_type": "code",
   "execution_count": 20,
   "id": "b8093d52",
   "metadata": {
    "execution": {
     "iopub.execute_input": "2025-07-21T16:46:22.934481Z",
     "iopub.status.busy": "2025-07-21T16:46:22.934063Z",
     "iopub.status.idle": "2025-07-21T16:46:22.941713Z",
     "shell.execute_reply": "2025-07-21T16:46:22.940707Z"
    },
    "papermill": {
     "duration": 0.022954,
     "end_time": "2025-07-21T16:46:22.943790",
     "exception": false,
     "start_time": "2025-07-21T16:46:22.920836",
     "status": "completed"
    },
    "tags": []
   },
   "outputs": [],
   "source": [
    "import re\n",
    "\n",
    "unit_conversions = {\n",
    "    'Sq. Meter': 10.7639,\n",
    "    'Sq. Yards': 9.0,\n",
    "    'Acres': 43560,\n",
    "    'Cents': 435.6,\n",
    "    'Guntha': 1089,\n",
    "    'Grounds': 2400,\n",
    "    'Perch': 272.25\n",
    "}\n",
    "\n",
    "def convert_total_sqft(value):\n",
    "    try:\n",
    "        value = str(value).strip()\n",
    "        \n",
    "        # Case 1: Range \n",
    "        if '-' in value:\n",
    "            parts = value.split('-')\n",
    "            return (float(parts[0].strip()) + float(parts[1].strip())) / 2\n",
    "        \n",
    "        # Case 2: Pure number\n",
    "        if re.fullmatch(r'\\d+(\\.\\d+)?', value):\n",
    "            return float(value)\n",
    "        \n",
    "        # Case 3: Number with unit (e.g. \"4125Perch\")\n",
    "        for unit in unit_conversions:\n",
    "            if unit in value:\n",
    "                num = re.findall(r'[\\d.]+', value)\n",
    "                if num:\n",
    "                    return float(num[0]) * unit_conversions[unit]\n",
    "        \n",
    "        return None\n",
    "    except:\n",
    "        return None"
   ]
  },
  {
   "cell_type": "code",
   "execution_count": 21,
   "id": "e2692763",
   "metadata": {
    "execution": {
     "iopub.execute_input": "2025-07-21T16:46:22.969340Z",
     "iopub.status.busy": "2025-07-21T16:46:22.968955Z",
     "iopub.status.idle": "2025-07-21T16:46:23.018346Z",
     "shell.execute_reply": "2025-07-21T16:46:23.017200Z"
    },
    "papermill": {
     "duration": 0.065053,
     "end_time": "2025-07-21T16:46:23.020823",
     "exception": false,
     "start_time": "2025-07-21T16:46:22.955770",
     "status": "completed"
    },
    "tags": []
   },
   "outputs": [],
   "source": [
    "df['total_sqft'] = df['total_sqft'].apply(convert_total_sqft)\n",
    "df = df[df['total_sqft'].notnull()]\n",
    "\n",
    "\n",
    "X_train['total_sqft'] = X_train['total_sqft'].apply(convert_total_sqft)\n",
    "X_train = X_train[X_train['total_sqft'].notnull()]\n",
    "\n",
    "X_test['total_sqft'] = X_test['total_sqft'].apply(convert_total_sqft)\n",
    "X_test = X_test[X_test['total_sqft'].notnull()]"
   ]
  },
  {
   "cell_type": "code",
   "execution_count": 22,
   "id": "bab509de",
   "metadata": {
    "execution": {
     "iopub.execute_input": "2025-07-21T16:46:23.047651Z",
     "iopub.status.busy": "2025-07-21T16:46:23.047304Z",
     "iopub.status.idle": "2025-07-21T16:46:23.058859Z",
     "shell.execute_reply": "2025-07-21T16:46:23.057651Z"
    },
    "papermill": {
     "duration": 0.028571,
     "end_time": "2025-07-21T16:46:23.061150",
     "exception": false,
     "start_time": "2025-07-21T16:46:23.032579",
     "status": "completed"
    },
    "tags": []
   },
   "outputs": [
    {
     "data": {
      "text/plain": [
       "total_sqft\n",
       "1200.0    661\n",
       "1100.0    176\n",
       "1500.0    173\n",
       "2400.0    149\n",
       "1000.0    144\n",
       "         ... \n",
       "3680.0      1\n",
       "3990.0      1\n",
       "1078.0      1\n",
       "1915.0      1\n",
       "1437.0      1\n",
       "Name: count, Length: 1870, dtype: int64"
      ]
     },
     "execution_count": 22,
     "metadata": {},
     "output_type": "execute_result"
    }
   ],
   "source": [
    "X_train['total_sqft'].value_counts()"
   ]
  },
  {
   "cell_type": "markdown",
   "id": "4cd62cf6",
   "metadata": {
    "papermill": {
     "duration": 0.011492,
     "end_time": "2025-07-21T16:46:23.084670",
     "exception": false,
     "start_time": "2025-07-21T16:46:23.073178",
     "status": "completed"
    },
    "tags": []
   },
   "source": [
    "## EDA"
   ]
  },
  {
   "cell_type": "code",
   "execution_count": 23,
   "id": "adb3bb40",
   "metadata": {
    "execution": {
     "iopub.execute_input": "2025-07-21T16:46:23.109792Z",
     "iopub.status.busy": "2025-07-21T16:46:23.109439Z",
     "iopub.status.idle": "2025-07-21T16:46:23.343853Z",
     "shell.execute_reply": "2025-07-21T16:46:23.342698Z"
    },
    "papermill": {
     "duration": 0.24967,
     "end_time": "2025-07-21T16:46:23.346086",
     "exception": false,
     "start_time": "2025-07-21T16:46:23.096416",
     "status": "completed"
    },
    "tags": []
   },
   "outputs": [
    {
     "data": {
      "image/png": "[encoded data removed]",
      "text/plain": [
       "<Figure size 640x480 with 1 Axes>"
      ]
     },
     "metadata": {},
     "output_type": "display_data"
    }
   ],
   "source": [
    "sns.countplot(data=df,x='area_type',palette='crest')\n",
    "plt.show()"
   ]
  },
  {
   "cell_type": "code",
   "execution_count": 24,
   "id": "5f9a0a5f",
   "metadata": {
    "execution": {
     "iopub.execute_input": "2025-07-21T16:46:23.372272Z",
     "iopub.status.busy": "2025-07-21T16:46:23.371880Z",
     "iopub.status.idle": "2025-07-21T16:46:24.107098Z",
     "shell.execute_reply": "2025-07-21T16:46:24.106017Z"
    },
    "papermill": {
     "duration": 0.750762,
     "end_time": "2025-07-21T16:46:24.109263",
     "exception": false,
     "start_time": "2025-07-21T16:46:23.358501",
     "status": "completed"
    },
    "scrolled": true,
    "tags": []
   },
   "outputs": [
    {
     "name": "stdout",
     "output_type": "stream",
     "text": [
      "skewness : 2.922388340212632\n"
     ]
    },
    {
     "data": {
      "image/png": "[encoded data removed]",
      "text/plain": [
       "<Figure size 2000x600 with 2 Axes>"
      ]
     },
     "metadata": {},
     "output_type": "display_data"
    }
   ],
   "source": [
    "fig, axs = plt.subplots(1, 2, figsize=(20, 6))\n",
    "\n",
    "sns.histplot(data=X_train,x='size',ax=axs[0],color='green')\n",
    "sns.boxplot(x='size',data=X_train, ax=axs[1],color='green')\n",
    "print('skewness :',X_train['size'].skew())\n",
    "plt.show()\n"
   ]
  },
  {
   "cell_type": "code",
   "execution_count": 25,
   "id": "2134f95e",
   "metadata": {
    "execution": {
     "iopub.execute_input": "2025-07-21T16:46:24.136721Z",
     "iopub.status.busy": "2025-07-21T16:46:24.135784Z",
     "iopub.status.idle": "2025-07-21T16:46:25.018584Z",
     "shell.execute_reply": "2025-07-21T16:46:25.017473Z"
    },
    "papermill": {
     "duration": 0.899045,
     "end_time": "2025-07-21T16:46:25.020925",
     "exception": false,
     "start_time": "2025-07-21T16:46:24.121880",
     "status": "completed"
    },
    "tags": []
   },
   "outputs": [
    {
     "name": "stdout",
     "output_type": "stream",
     "text": [
      "skewness : 4.227696763299001\n"
     ]
    },
    {
     "data": {
      "image/png": "[encoded data removed]",
      "text/plain": [
       "<Figure size 2000x600 with 2 Axes>"
      ]
     },
     "metadata": {},
     "output_type": "display_data"
    }
   ],
   "source": [
    "fig, axs = plt.subplots(1, 2, figsize=(20, 6))\n",
    "sns.histplot(data=df,x='bath',ax=axs[0],color='green')\n",
    "sns.boxplot(data=df,x='bath',ax=axs[1],color='green')\n",
    "print('skewness :',df['bath'].skew())\n",
    "plt.show()"
   ]
  },
  {
   "cell_type": "code",
   "execution_count": 26,
   "id": "d5bd57ec",
   "metadata": {
    "execution": {
     "iopub.execute_input": "2025-07-21T16:46:25.050921Z",
     "iopub.status.busy": "2025-07-21T16:46:25.050505Z",
     "iopub.status.idle": "2025-07-21T16:46:25.449832Z",
     "shell.execute_reply": "2025-07-21T16:46:25.448735Z"
    },
    "papermill": {
     "duration": 0.417604,
     "end_time": "2025-07-21T16:46:25.452026",
     "exception": false,
     "start_time": "2025-07-21T16:46:25.034422",
     "status": "completed"
    },
    "tags": []
   },
   "outputs": [
    {
     "name": "stdout",
     "output_type": "stream",
     "text": [
      "skewness : 0.005856767469113565\n"
     ]
    },
    {
     "data": {
      "image/png": "[encoded data removed]",
      "text/plain": [
       "<Figure size 2000x600 with 2 Axes>"
      ]
     },
     "metadata": {},
     "output_type": "display_data"
    }
   ],
   "source": [
    "fig, axs = plt.subplots(1, 2, figsize=(20, 6))\n",
    "sns.histplot(data=df,x='balcony',ax=axs[0],color='green')\n",
    "sns.boxplot(data=df,x='balcony',ax=axs[1],color='green')\n",
    "print('skewness :',df['balcony'].skew())\n",
    "plt.show()"
   ]
  },
  {
   "cell_type": "code",
   "execution_count": 27,
   "id": "d95c442b",
   "metadata": {
    "execution": {
     "iopub.execute_input": "2025-07-21T16:46:25.480571Z",
     "iopub.status.busy": "2025-07-21T16:46:25.480215Z",
     "iopub.status.idle": "2025-07-21T16:46:26.149720Z",
     "shell.execute_reply": "2025-07-21T16:46:26.148573Z"
    },
    "papermill": {
     "duration": 0.686936,
     "end_time": "2025-07-21T16:46:26.152426",
     "exception": false,
     "start_time": "2025-07-21T16:46:25.465490",
     "status": "completed"
    },
    "tags": []
   },
   "outputs": [
    {
     "name": "stdout",
     "output_type": "stream",
     "text": [
      "skewness : 8.064468821273252\n"
     ]
    },
    {
     "data": {
      "image/png": "[encoded data removed]",
      "text/plain": [
       "<Figure size 2000x600 with 2 Axes>"
      ]
     },
     "metadata": {},
     "output_type": "display_data"
    }
   ],
   "source": [
    "fig, axs = plt.subplots(1, 2, figsize=(20, 6))\n",
    "sns.histplot(data=df,x='price',bins=250,ax=axs[0],color='green')\n",
    "sns.boxplot(data=df,x='price',ax=axs[1],color='green')\n",
    "print('skewness :',df['price'].skew())\n",
    "plt.show()"
   ]
  },
  {
   "cell_type": "code",
   "execution_count": 28,
   "id": "a866863c",
   "metadata": {
    "execution": {
     "iopub.execute_input": "2025-07-21T16:46:26.184035Z",
     "iopub.status.busy": "2025-07-21T16:46:26.183589Z",
     "iopub.status.idle": "2025-07-21T16:46:26.193747Z",
     "shell.execute_reply": "2025-07-21T16:46:26.192655Z"
    },
    "papermill": {
     "duration": 0.028001,
     "end_time": "2025-07-21T16:46:26.195865",
     "exception": false,
     "start_time": "2025-07-21T16:46:26.167864",
     "status": "completed"
    },
    "tags": []
   },
   "outputs": [
    {
     "data": {
      "text/plain": [
       "price\n",
       "75.00     310\n",
       "65.00     302\n",
       "55.00     275\n",
       "60.00     270\n",
       "45.00     240\n",
       "         ... \n",
       "351.00      1\n",
       "54.10       1\n",
       "80.64       1\n",
       "32.73       1\n",
       "488.00      1\n",
       "Name: count, Length: 1994, dtype: int64"
      ]
     },
     "execution_count": 28,
     "metadata": {},
     "output_type": "execute_result"
    }
   ],
   "source": [
    "df['price'].value_counts()"
   ]
  },
  {
   "cell_type": "code",
   "execution_count": 29,
   "id": "cb68f9d8",
   "metadata": {
    "execution": {
     "iopub.execute_input": "2025-07-21T16:46:26.225992Z",
     "iopub.status.busy": "2025-07-21T16:46:26.225068Z",
     "iopub.status.idle": "2025-07-21T16:47:11.144276Z",
     "shell.execute_reply": "2025-07-21T16:47:11.143196Z"
    },
    "papermill": {
     "duration": 44.957583,
     "end_time": "2025-07-21T16:47:11.167432",
     "exception": false,
     "start_time": "2025-07-21T16:46:26.209849",
     "status": "completed"
    },
    "tags": []
   },
   "outputs": [
    {
     "data": {
      "image/png": "[encoded data removed]",
      "text/plain": [
       "<Figure size 1250x1250 with 30 Axes>"
      ]
     },
     "metadata": {},
     "output_type": "display_data"
    }
   ],
   "source": [
    "sns.pairplot(df)\n",
    "plt.show()"
   ]
  },
  {
   "cell_type": "code",
   "execution_count": 30,
   "id": "07b0ac57",
   "metadata": {
    "execution": {
     "iopub.execute_input": "2025-07-21T16:47:11.274992Z",
     "iopub.status.busy": "2025-07-21T16:47:11.274565Z",
     "iopub.status.idle": "2025-07-21T16:47:11.475927Z",
     "shell.execute_reply": "2025-07-21T16:47:11.474855Z"
    },
    "papermill": {
     "duration": 0.224688,
     "end_time": "2025-07-21T16:47:11.478075",
     "exception": false,
     "start_time": "2025-07-21T16:47:11.253387",
     "status": "completed"
    },
    "scrolled": true,
    "tags": []
   },
   "outputs": [
    {
     "data": {
      "image/png": "[encoded data removed]",
      "text/plain": [
       "<Figure size 600x300 with 1 Axes>"
      ]
     },
     "metadata": {},
     "output_type": "display_data"
    }
   ],
   "source": [
    "fig, axs = plt.subplots( figsize=(6, 3))\n",
    "\n",
    "sns.barplot(data= df.groupby('area_type')['price'].mean().sort_values(ascending=False).reset_index(), x='area_type', y='price',palette='crest')\n",
    "plt.show()"
   ]
  },
  {
   "cell_type": "code",
   "execution_count": 31,
   "id": "0171dfe1",
   "metadata": {
    "execution": {
     "iopub.execute_input": "2025-07-21T16:47:11.514603Z",
     "iopub.status.busy": "2025-07-21T16:47:11.513774Z",
     "iopub.status.idle": "2025-07-21T16:47:11.764002Z",
     "shell.execute_reply": "2025-07-21T16:47:11.762865Z"
    },
    "papermill": {
     "duration": 0.271435,
     "end_time": "2025-07-21T16:47:11.766606",
     "exception": false,
     "start_time": "2025-07-21T16:47:11.495171",
     "status": "completed"
    },
    "tags": []
   },
   "outputs": [
    {
     "data": {
      "image/png": "[encoded data removed]",
      "text/plain": [
       "<Figure size 1200x800 with 1 Axes>"
      ]
     },
     "metadata": {},
     "output_type": "display_data"
    }
   ],
   "source": [
    "fig, axs = plt.subplots( figsize=(12, 8))\n",
    "\n",
    "sorted_df = df.groupby('site_location')['price'].mean().sort_values(ascending=False).reset_index()\n",
    "\n",
    "# Create the barplot with sorted data\n",
    "sns.barplot(data=sorted_df[:5], x='site_location', y='price',palette='crest')\n",
    "plt.show()"
   ]
  },
  {
   "cell_type": "code",
   "execution_count": 32,
   "id": "f2ceb4cd",
   "metadata": {
    "execution": {
     "iopub.execute_input": "2025-07-21T16:47:11.804186Z",
     "iopub.status.busy": "2025-07-21T16:47:11.803286Z",
     "iopub.status.idle": "2025-07-21T16:47:12.199038Z",
     "shell.execute_reply": "2025-07-21T16:47:12.197880Z"
    },
    "papermill": {
     "duration": 0.416388,
     "end_time": "2025-07-21T16:47:12.201458",
     "exception": false,
     "start_time": "2025-07-21T16:47:11.785070",
     "status": "completed"
    },
    "tags": []
   },
   "outputs": [
    {
     "data": {
      "image/png": "[encoded data removed]",
      "text/plain": [
       "<Figure size 2200x1200 with 2 Axes>"
      ]
     },
     "metadata": {},
     "output_type": "display_data"
    }
   ],
   "source": [
    "num_col = df.select_dtypes(include=['float64']) \n",
    "plt.figure(figsize=(22, 12))\n",
    "sns.heatmap(data=num_col.corr(),linewidths=2,cmap='crest', linecolor='white', annot=True)\n",
    "plt.show()"
   ]
  },
  {
   "cell_type": "markdown",
   "id": "7a8d6f2c",
   "metadata": {
    "papermill": {
     "duration": 0.017593,
     "end_time": "2025-07-21T16:47:12.237474",
     "exception": false,
     "start_time": "2025-07-21T16:47:12.219881",
     "status": "completed"
    },
    "tags": []
   },
   "source": [
    "## Summery of EDA"
   ]
  },
  {
   "cell_type": "markdown",
   "id": "aee13bde",
   "metadata": {
    "papermill": {
     "duration": 0.017531,
     "end_time": "2025-07-21T16:47:12.272947",
     "exception": false,
     "start_time": "2025-07-21T16:47:12.255416",
     "status": "completed"
    },
    "tags": []
   },
   "source": [
    "**there are alot of outliers in size,total_sqft and price**\n",
    "\n",
    "**Increase in total _Sqft There is an increase price**\n",
    "\n",
    "**Increase in the size of rooms and baths There is an increase price**\n",
    "\n",
    "**the highest number of rooms,baths and balcony are two**\n",
    "\n",
    "**plot area has the large average price**\n",
    "\n",
    "**Kierser society has the large average price**\n",
    "\n",
    "**Gultikde site location has the large average price**\n",
    "\n"
   ]
  },
  {
   "cell_type": "markdown",
   "id": "7435cde6",
   "metadata": {
    "papermill": {
     "duration": 0.017286,
     "end_time": "2025-07-21T16:47:12.307966",
     "exception": false,
     "start_time": "2025-07-21T16:47:12.290680",
     "status": "completed"
    },
    "tags": []
   },
   "source": [
    "## Dealing with Outliers"
   ]
  },
  {
   "cell_type": "code",
   "execution_count": 33,
   "id": "e2773ff2",
   "metadata": {
    "execution": {
     "iopub.execute_input": "2025-07-21T16:47:12.345323Z",
     "iopub.status.busy": "2025-07-21T16:47:12.344766Z",
     "iopub.status.idle": "2025-07-21T16:47:12.350408Z",
     "shell.execute_reply": "2025-07-21T16:47:12.349333Z"
    },
    "papermill": {
     "duration": 0.027216,
     "end_time": "2025-07-21T16:47:12.352663",
     "exception": false,
     "start_time": "2025-07-21T16:47:12.325447",
     "status": "completed"
    },
    "tags": []
   },
   "outputs": [],
   "source": [
    "from sklearn.preprocessing import QuantileTransformer\n",
    "quantile_transformer = QuantileTransformer(output_distribution='normal')"
   ]
  },
  {
   "cell_type": "code",
   "execution_count": 34,
   "id": "4c58bb6e",
   "metadata": {
    "execution": {
     "iopub.execute_input": "2025-07-21T16:47:12.389606Z",
     "iopub.status.busy": "2025-07-21T16:47:12.388968Z",
     "iopub.status.idle": "2025-07-21T16:47:13.681144Z",
     "shell.execute_reply": "2025-07-21T16:47:13.679989Z"
    },
    "papermill": {
     "duration": 1.313243,
     "end_time": "2025-07-21T16:47:13.683358",
     "exception": false,
     "start_time": "2025-07-21T16:47:12.370115",
     "status": "completed"
    },
    "tags": []
   },
   "outputs": [
    {
     "data": {
      "image/png": "[encoded data removed]",
      "text/plain": [
       "<Figure size 2000x600 with 2 Axes>"
      ]
     },
     "metadata": {},
     "output_type": "display_data"
    }
   ],
   "source": [
    "fig, axs = plt.subplots(1, 2, figsize=(20, 6))\n",
    "\n",
    "sns.histplot(x='price',data=df,ax=axs[0],color='green')\n",
    "\n",
    "df['price'] = quantile_transformer.fit_transform(df[['price']])\n",
    "\n",
    "sns.histplot(x='price',data=df,ax=axs[1],color='green')\n",
    "plt.show()"
   ]
  },
  {
   "cell_type": "code",
   "execution_count": 35,
   "id": "212201a3",
   "metadata": {
    "execution": {
     "iopub.execute_input": "2025-07-21T16:47:13.721243Z",
     "iopub.status.busy": "2025-07-21T16:47:13.720829Z",
     "iopub.status.idle": "2025-07-21T16:47:51.063838Z",
     "shell.execute_reply": "2025-07-21T16:47:51.062649Z"
    },
    "papermill": {
     "duration": 37.383503,
     "end_time": "2025-07-21T16:47:51.085045",
     "exception": false,
     "start_time": "2025-07-21T16:47:13.701542",
     "status": "completed"
    },
    "tags": []
   },
   "outputs": [
    {
     "data": {
      "image/png": "[encoded data removed]",
      "text/plain": [
       "<Figure size 2000x600 with 2 Axes>"
      ]
     },
     "metadata": {},
     "output_type": "display_data"
    }
   ],
   "source": [
    "fig, axs = plt.subplots(1, 2, figsize=(20, 6))\n",
    "\n",
    "sns.histplot(x='total_sqft',data=df,ax=axs[0],color='green')\n",
    "df['total_sqft'] = quantile_transformer.fit_transform(df[['total_sqft']])\n",
    "sns.histplot(x='total_sqft',data=df,ax=axs[1],color='green')\n",
    "plt.show()"
   ]
  },
  {
   "cell_type": "code",
   "execution_count": 36,
   "id": "f3e7924b",
   "metadata": {
    "execution": {
     "iopub.execute_input": "2025-07-21T16:47:51.125981Z",
     "iopub.status.busy": "2025-07-21T16:47:51.124825Z",
     "iopub.status.idle": "2025-07-21T16:47:52.202978Z",
     "shell.execute_reply": "2025-07-21T16:47:52.201373Z"
    },
    "papermill": {
     "duration": 1.101354,
     "end_time": "2025-07-21T16:47:52.205443",
     "exception": false,
     "start_time": "2025-07-21T16:47:51.104089",
     "status": "completed"
    },
    "tags": []
   },
   "outputs": [
    {
     "data": {
      "image/png": "[encoded data removed]",
      "text/plain": [
       "<Figure size 2000x600 with 2 Axes>"
      ]
     },
     "metadata": {},
     "output_type": "display_data"
    }
   ],
   "source": [
    "fig, axs = plt.subplots(1, 2, figsize=(20, 6))\n",
    "\n",
    "sns.histplot(x='size',data=df,ax=axs[0],color='green')\n",
    "\n",
    "\n",
    "df['size'] = quantile_transformer.fit_transform(df[['size']])\n",
    "\n",
    "sns.histplot(x='size',data=df,ax=axs[1],color='green')\n",
    "plt.show()"
   ]
  },
  {
   "cell_type": "markdown",
   "id": "7f6dc0cc",
   "metadata": {
    "papermill": {
     "duration": 0.019031,
     "end_time": "2025-07-21T16:47:52.243633",
     "exception": false,
     "start_time": "2025-07-21T16:47:52.224602",
     "status": "completed"
    },
    "tags": []
   },
   "source": [
    "#### Feature Engineering"
   ]
  },
  {
   "cell_type": "code",
   "execution_count": 37,
   "id": "70bc8b6f",
   "metadata": {
    "execution": {
     "iopub.execute_input": "2025-07-21T16:47:52.284532Z",
     "iopub.status.busy": "2025-07-21T16:47:52.284180Z",
     "iopub.status.idle": "2025-07-21T16:47:52.291570Z",
     "shell.execute_reply": "2025-07-21T16:47:52.290355Z"
    },
    "papermill": {
     "duration": 0.03047,
     "end_time": "2025-07-21T16:47:52.293881",
     "exception": false,
     "start_time": "2025-07-21T16:47:52.263411",
     "status": "completed"
    },
    "tags": []
   },
   "outputs": [],
   "source": [
    "X_train['size']=X_train['balcony']+X_train['bath']+X_train['size']\n",
    "X_test['size']=X_test['balcony']+X_test['bath']+X_test['size']"
   ]
  },
  {
   "cell_type": "code",
   "execution_count": 38,
   "id": "a84e10b3",
   "metadata": {
    "execution": {
     "iopub.execute_input": "2025-07-21T16:47:52.336324Z",
     "iopub.status.busy": "2025-07-21T16:47:52.335518Z",
     "iopub.status.idle": "2025-07-21T16:47:52.342369Z",
     "shell.execute_reply": "2025-07-21T16:47:52.341394Z"
    },
    "papermill": {
     "duration": 0.029329,
     "end_time": "2025-07-21T16:47:52.344288",
     "exception": false,
     "start_time": "2025-07-21T16:47:52.314959",
     "status": "completed"
    },
    "tags": []
   },
   "outputs": [],
   "source": [
    "X_train.drop(columns=['bath','balcony'],inplace=True)\n",
    "X_test.drop(columns=['bath','balcony'],inplace=True)"
   ]
  },
  {
   "cell_type": "markdown",
   "id": "d160175c",
   "metadata": {
    "papermill": {
     "duration": 0.018279,
     "end_time": "2025-07-21T16:47:52.381118",
     "exception": false,
     "start_time": "2025-07-21T16:47:52.362839",
     "status": "completed"
    },
    "tags": []
   },
   "source": [
    "## Pipline"
   ]
  },
  {
   "cell_type": "code",
   "execution_count": 39,
   "id": "967c89ea",
   "metadata": {
    "execution": {
     "iopub.execute_input": "2025-07-21T16:47:52.419731Z",
     "iopub.status.busy": "2025-07-21T16:47:52.419370Z",
     "iopub.status.idle": "2025-07-21T16:47:52.595338Z",
     "shell.execute_reply": "2025-07-21T16:47:52.594306Z"
    },
    "papermill": {
     "duration": 0.198021,
     "end_time": "2025-07-21T16:47:52.597689",
     "exception": false,
     "start_time": "2025-07-21T16:47:52.399668",
     "status": "completed"
    },
    "tags": []
   },
   "outputs": [],
   "source": [
    "from sklearn.pipeline import Pipeline\n",
    "from sklearn.impute import SimpleImputer\n",
    "from sklearn.preprocessing import OneHotEncoder\n",
    "from sklearn.preprocessing import StandardScaler\n",
    "num_pipeline = Pipeline([('imputer', SimpleImputer(strategy=\"median\")),('quantile', QuantileTransformer(output_distribution='normal')),\n",
    " ('std_scaler', StandardScaler())])\n",
    "cat_pipeline = Pipeline([\n",
    "    ('imputer', SimpleImputer(strategy='most_frequent')),  \n",
    "    ('onehot', OneHotEncoder(handle_unknown='ignore'))  \n",
    "])\n"
   ]
  },
  {
   "cell_type": "code",
   "execution_count": 40,
   "id": "3867db05",
   "metadata": {
    "execution": {
     "iopub.execute_input": "2025-07-21T16:47:52.637339Z",
     "iopub.status.busy": "2025-07-21T16:47:52.636939Z",
     "iopub.status.idle": "2025-07-21T16:47:52.647574Z",
     "shell.execute_reply": "2025-07-21T16:47:52.646522Z"
    },
    "papermill": {
     "duration": 0.033244,
     "end_time": "2025-07-21T16:47:52.649974",
     "exception": false,
     "start_time": "2025-07-21T16:47:52.616730",
     "status": "completed"
    },
    "tags": []
   },
   "outputs": [],
   "source": [
    "from sklearn.compose import ColumnTransformer\n",
    "cat_col=['area_type','availability','site_location']\n",
    "num_col=['size','total_sqft']\n",
    "full_pipeline = ColumnTransformer([(\"num\", num_pipeline, num_col),(\"cat\", cat_pipeline, cat_col)])"
   ]
  },
  {
   "cell_type": "code",
   "execution_count": 41,
   "id": "61e8a3a6",
   "metadata": {
    "execution": {
     "iopub.execute_input": "2025-07-21T16:47:52.689359Z",
     "iopub.status.busy": "2025-07-21T16:47:52.688970Z",
     "iopub.status.idle": "2025-07-21T16:47:52.702204Z",
     "shell.execute_reply": "2025-07-21T16:47:52.701369Z"
    },
    "papermill": {
     "duration": 0.035402,
     "end_time": "2025-07-21T16:47:52.704322",
     "exception": false,
     "start_time": "2025-07-21T16:47:52.668920",
     "status": "completed"
    },
    "tags": []
   },
   "outputs": [],
   "source": [
    "quantile_transformer = QuantileTransformer(output_distribution='normal')\n",
    "y_train_r = quantile_transformer.fit_transform(y_train.values.reshape(-1, 1))\n",
    "y_test_r = quantile_transformer.transform(y_test.values.reshape(-1, 1))\n"
   ]
  },
  {
   "cell_type": "code",
   "execution_count": 42,
   "id": "6f6c5d44",
   "metadata": {
    "execution": {
     "iopub.execute_input": "2025-07-21T16:47:52.744234Z",
     "iopub.status.busy": "2025-07-21T16:47:52.743842Z",
     "iopub.status.idle": "2025-07-21T16:47:52.798315Z",
     "shell.execute_reply": "2025-07-21T16:47:52.797195Z"
    },
    "papermill": {
     "duration": 0.077228,
     "end_time": "2025-07-21T16:47:52.800620",
     "exception": false,
     "start_time": "2025-07-21T16:47:52.723392",
     "status": "completed"
    },
    "tags": []
   },
   "outputs": [],
   "source": [
    "X_train_r = full_pipeline.fit_transform(X_train)\n",
    "X_test_r = full_pipeline.transform(X_test)"
   ]
  },
  {
   "cell_type": "markdown",
   "id": "ed6c9d7d",
   "metadata": {
    "papermill": {
     "duration": 0.018754,
     "end_time": "2025-07-21T16:47:52.838466",
     "exception": false,
     "start_time": "2025-07-21T16:47:52.819712",
     "status": "completed"
    },
    "tags": []
   },
   "source": [
    "## Modeling"
   ]
  },
  {
   "cell_type": "code",
   "execution_count": 43,
   "id": "8729c193",
   "metadata": {
    "execution": {
     "iopub.execute_input": "2025-07-21T16:47:52.877930Z",
     "iopub.status.busy": "2025-07-21T16:47:52.877511Z",
     "iopub.status.idle": "2025-07-21T16:49:01.050257Z",
     "shell.execute_reply": "2025-07-21T16:49:01.049142Z"
    },
    "papermill": {
     "duration": 68.214151,
     "end_time": "2025-07-21T16:49:01.071353",
     "exception": false,
     "start_time": "2025-07-21T16:47:52.857202",
     "status": "completed"
    },
    "tags": []
   },
   "outputs": [
    {
     "data": {
      "text/html": [
       "<div>\n",
       "<style scoped>\n",
       "    .dataframe tbody tr th:only-of-type {\n",
       "        vertical-align: middle;\n",
       "    }\n",
       "\n",
       "    .dataframe tbody tr th {\n",
       "        vertical-align: top;\n",
       "    }\n",
       "\n",
       "    .dataframe thead th {\n",
       "        text-align: right;\n",
       "    }\n",
       "</style>\n",
       "<table border=\"1\" class=\"dataframe\">\n",
       "  <thead>\n",
       "    <tr style=\"text-align: right;\">\n",
       "      <th></th>\n",
       "      <th>Model Name</th>\n",
       "      <th>MAE</th>\n",
       "      <th>MSE</th>\n",
       "      <th>RMSE</th>\n",
       "      <th>R² Score</th>\n",
       "    </tr>\n",
       "  </thead>\n",
       "  <tbody>\n",
       "    <tr>\n",
       "      <th>0</th>\n",
       "      <td>Linear Regression</td>\n",
       "      <td>0.452924</td>\n",
       "      <td>0.345175</td>\n",
       "      <td>0.587516</td>\n",
       "      <td>0.655069</td>\n",
       "    </tr>\n",
       "    <tr>\n",
       "      <th>1</th>\n",
       "      <td>Random Forest</td>\n",
       "      <td>0.403658</td>\n",
       "      <td>0.296404</td>\n",
       "      <td>0.544430</td>\n",
       "      <td>0.703805</td>\n",
       "    </tr>\n",
       "    <tr>\n",
       "      <th>2</th>\n",
       "      <td>Gradient Boosting</td>\n",
       "      <td>0.408048</td>\n",
       "      <td>0.284302</td>\n",
       "      <td>0.533200</td>\n",
       "      <td>0.715899</td>\n",
       "    </tr>\n",
       "    <tr>\n",
       "      <th>3</th>\n",
       "      <td>Decision Tree</td>\n",
       "      <td>0.490287</td>\n",
       "      <td>0.459524</td>\n",
       "      <td>0.677882</td>\n",
       "      <td>0.540801</td>\n",
       "    </tr>\n",
       "    <tr>\n",
       "      <th>4</th>\n",
       "      <td>SVM</td>\n",
       "      <td>0.413827</td>\n",
       "      <td>0.295321</td>\n",
       "      <td>0.543434</td>\n",
       "      <td>0.704888</td>\n",
       "    </tr>\n",
       "    <tr>\n",
       "      <th>5</th>\n",
       "      <td>SGD Regressor</td>\n",
       "      <td>0.450012</td>\n",
       "      <td>0.341484</td>\n",
       "      <td>0.584367</td>\n",
       "      <td>0.658757</td>\n",
       "    </tr>\n",
       "  </tbody>\n",
       "</table>\n",
       "</div>"
      ],
      "text/plain": [
       "          Model Name       MAE       MSE      RMSE  R² Score\n",
       "0  Linear Regression  0.452924  0.345175  0.587516  0.655069\n",
       "1      Random Forest  0.403658  0.296404  0.544430  0.703805\n",
       "2  Gradient Boosting  0.408048  0.284302  0.533200  0.715899\n",
       "3      Decision Tree  0.490287  0.459524  0.677882  0.540801\n",
       "4                SVM  0.413827  0.295321  0.543434  0.704888\n",
       "5      SGD Regressor  0.450012  0.341484  0.584367  0.658757"
      ]
     },
     "execution_count": 43,
     "metadata": {},
     "output_type": "execute_result"
    }
   ],
   "source": [
    "from sklearn.linear_model import LinearRegression, SGDRegressor\n",
    "from sklearn.ensemble import RandomForestRegressor, GradientBoostingRegressor\n",
    "from sklearn.tree import DecisionTreeRegressor\n",
    "from sklearn.svm import SVR\n",
    "from sklearn.metrics import mean_absolute_error, mean_squared_error, r2_score\n",
    "from sklearn.model_selection import cross_val_predict\n",
    "\n",
    "models = {\n",
    "    \"Linear Regression\": LinearRegression(),\n",
    "    \"Random Forest\": RandomForestRegressor(),\n",
    "    \"Gradient Boosting\": GradientBoostingRegressor(),\n",
    "    \"Decision Tree\": DecisionTreeRegressor(),\n",
    "    \"SVM\": SVR(),\n",
    "    \"SGD Regressor\": SGDRegressor(),\n",
    "}\n",
    "results = []\n",
    "\n",
    "for name, model in models.items():\n",
    "    predict=cross_val_predict(model,X_train_r,y_train_r,cv=3)    \n",
    "    \n",
    "    # Calculate evaluation metrics\n",
    "    mae = mean_absolute_error(y_train_r, predict)\n",
    "    mse = mean_squared_error(y_train_r, predict)\n",
    "    rmse = np.sqrt(mse)\n",
    "    r2 = r2_score(y_train_r, predict)\n",
    "    \n",
    "    results.append({\n",
    "        \"Model Name\": name,\n",
    "        \"MAE\": mae,\n",
    "        \"MSE\": mse,\n",
    "        \"RMSE\": rmse,\n",
    "        \"R² Score\": r2\n",
    "    })\n",
    "\n",
    "results_df = pd.DataFrame(results)\n",
    "\n",
    "results_df"
   ]
  },
  {
   "cell_type": "markdown",
   "id": "f579e46a",
   "metadata": {
    "papermill": {
     "duration": 0.018993,
     "end_time": "2025-07-21T16:49:01.109437",
     "exception": false,
     "start_time": "2025-07-21T16:49:01.090444",
     "status": "completed"
    },
    "tags": []
   },
   "source": [
    "## Fine Tuning"
   ]
  },
  {
   "cell_type": "code",
   "execution_count": 44,
   "id": "c91c3122",
   "metadata": {
    "execution": {
     "iopub.execute_input": "2025-07-21T16:49:01.149613Z",
     "iopub.status.busy": "2025-07-21T16:49:01.149212Z",
     "iopub.status.idle": "2025-07-21T16:49:01.156853Z",
     "shell.execute_reply": "2025-07-21T16:49:01.155612Z"
    },
    "papermill": {
     "duration": 0.030524,
     "end_time": "2025-07-21T16:49:01.159125",
     "exception": false,
     "start_time": "2025-07-21T16:49:01.128601",
     "status": "completed"
    },
    "tags": []
   },
   "outputs": [
    {
     "data": {
      "text/plain": [
       "\"from sklearn.model_selection import GridSearchCV\\n\\nparam_grid = [\\n    {'kernel': ['rbf'], 'C': [1, 10], 'gamma': [0.01, 0.1]},\\n    {'kernel': ['rbf'], 'C': [1, 10], 'gamma': [ 0.01, 0.1]},\\n]\\n\\nsvr = SVR()\\n\\ngrid_search = GridSearchCV(svr, param_grid, cv=5, scoring='neg_mean_squared_error', return_train_score=True)\\n\\ngrid_search.fit(X_train_r, y_train_r)\""
      ]
     },
     "execution_count": 44,
     "metadata": {},
     "output_type": "execute_result"
    }
   ],
   "source": [
    "'''from sklearn.model_selection import GridSearchCV\n",
    "\n",
    "param_grid = [\n",
    "    {'kernel': ['rbf'], 'C': [1, 10], 'gamma': [0.01, 0.1]},\n",
    "    {'kernel': ['rbf'], 'C': [1, 10], 'gamma': [ 0.01, 0.1]},\n",
    "]\n",
    "\n",
    "svr = SVR()\n",
    "\n",
    "grid_search = GridSearchCV(svr, param_grid, cv=5, scoring='neg_mean_squared_error', return_train_score=True)\n",
    "\n",
    "grid_search.fit(X_train_r, y_train_r)'''\n"
   ]
  },
  {
   "cell_type": "code",
   "execution_count": 45,
   "id": "8be07c66",
   "metadata": {
    "execution": {
     "iopub.execute_input": "2025-07-21T16:49:01.222035Z",
     "iopub.status.busy": "2025-07-21T16:49:01.221418Z",
     "iopub.status.idle": "2025-07-21T16:50:44.440038Z",
     "shell.execute_reply": "2025-07-21T16:50:44.438882Z"
    },
    "papermill": {
     "duration": 103.27292,
     "end_time": "2025-07-21T16:50:44.462797",
     "exception": false,
     "start_time": "2025-07-21T16:49:01.189877",
     "status": "completed"
    },
    "tags": []
   },
   "outputs": [
    {
     "data": {
      "text/html": [
       "<style>#sk-container-id-1 {color: black;background-color: white;}#sk-container-id-1 pre{padding: 0;}#sk-container-id-1 div.sk-toggleable {background-color: white;}#sk-container-id-1 label.sk-toggleable__label {cursor: pointer;display: block;width: 100%;margin-bottom: 0;padding: 0.3em;box-sizing: border-box;text-align: center;}#sk-container-id-1 label.sk-toggleable__label-arrow:before {content: \"▸\";float: left;margin-right: 0.25em;color: #696969;}#sk-container-id-1 label.sk-toggleable__label-arrow:hover:before {color: black;}#sk-container-id-1 div.sk-estimator:hover label.sk-toggleable__label-arrow:before {color: black;}#sk-container-id-1 div.sk-toggleable__content {max-height: 0;max-width: 0;overflow: hidden;text-align: left;background-color: #f0f8ff;}#sk-container-id-1 div.sk-toggleable__content pre {margin: 0.2em;color: black;border-radius: 0.25em;background-color: #f0f8ff;}#sk-container-id-1 input.sk-toggleable__control:checked~div.sk-toggleable__content {max-height: 200px;max-width: 100%;overflow: auto;}#sk-container-id-1 input.sk-toggleable__control:checked~label.sk-toggleable__label-arrow:before {content: \"▾\";}#sk-container-id-1 div.sk-estimator input.sk-toggleable__control:checked~label.sk-toggleable__label {background-color: #d4ebff;}#sk-container-id-1 div.sk-label input.sk-toggleable__control:checked~label.sk-toggleable__label {background-color: #d4ebff;}#sk-container-id-1 input.sk-hidden--visually {border: 0;clip: rect(1px 1px 1px 1px);clip: rect(1px, 1px, 1px, 1px);height: 1px;margin: -1px;overflow: hidden;padding: 0;position: absolute;width: 1px;}#sk-container-id-1 div.sk-estimator {font-family: monospace;background-color: #f0f8ff;border: 1px dotted black;border-radius: 0.25em;box-sizing: border-box;margin-bottom: 0.5em;}#sk-container-id-1 div.sk-estimator:hover {background-color: #d4ebff;}#sk-container-id-1 div.sk-parallel-item::after {content: \"\";width: 100%;border-bottom: 1px solid gray;flex-grow: 1;}#sk-container-id-1 div.sk-label:hover label.sk-toggleable__label {background-color: #d4ebff;}#sk-container-id-1 div.sk-serial::before {content: \"\";position: absolute;border-left: 1px solid gray;box-sizing: border-box;top: 0;bottom: 0;left: 50%;z-index: 0;}#sk-container-id-1 div.sk-serial {display: flex;flex-direction: column;align-items: center;background-color: white;padding-right: 0.2em;padding-left: 0.2em;position: relative;}#sk-container-id-1 div.sk-item {position: relative;z-index: 1;}#sk-container-id-1 div.sk-parallel {display: flex;align-items: stretch;justify-content: center;background-color: white;position: relative;}#sk-container-id-1 div.sk-item::before, #sk-container-id-1 div.sk-parallel-item::before {content: \"\";position: absolute;border-left: 1px solid gray;box-sizing: border-box;top: 0;bottom: 0;left: 50%;z-index: -1;}#sk-container-id-1 div.sk-parallel-item {display: flex;flex-direction: column;z-index: 1;position: relative;background-color: white;}#sk-container-id-1 div.sk-parallel-item:first-child::after {align-self: flex-end;width: 50%;}#sk-container-id-1 div.sk-parallel-item:last-child::after {align-self: flex-start;width: 50%;}#sk-container-id-1 div.sk-parallel-item:only-child::after {width: 0;}#sk-container-id-1 div.sk-dashed-wrapped {border: 1px dashed gray;margin: 0 0.4em 0.5em 0.4em;box-sizing: border-box;padding-bottom: 0.4em;background-color: white;}#sk-container-id-1 div.sk-label label {font-family: monospace;font-weight: bold;display: inline-block;line-height: 1.2em;}#sk-container-id-1 div.sk-label-container {text-align: center;}#sk-container-id-1 div.sk-container {/* jupyter's `normalize.less` sets `[hidden] { display: none; }` but bootstrap.min.css set `[hidden] { display: none !important; }` so we also need the `!important` here to be able to override the default hidden behavior on the sphinx rendered scikit-learn.org. See: https://github.com/scikit-learn/scikit-learn/issues/21755 */display: inline-block !important;position: relative;}#sk-container-id-1 div.sk-text-repr-fallback {display: none;}</style><div id=\"sk-container-id-1\" class=\"sk-top-container\"><div class=\"sk-text-repr-fallback\"><pre>GridSearchCV(cv=5, estimator=RandomForestRegressor(),\n",
       "             param_grid=[{&#x27;max_features&#x27;: [2, 4, 6, 8],\n",
       "                          &#x27;n_estimators&#x27;: [3, 10, 30]},\n",
       "                         {&#x27;bootstrap&#x27;: [False], &#x27;max_features&#x27;: [2, 3, 4],\n",
       "                          &#x27;n_estimators&#x27;: [3, 10]}],\n",
       "             return_train_score=True, scoring=&#x27;neg_mean_squared_error&#x27;)</pre><b>In a Jupyter environment, please rerun this cell to show the HTML representation or trust the notebook. <br />On GitHub, the HTML representation is unable to render, please try loading this page with nbviewer.org.</b></div><div class=\"sk-container\" hidden><div class=\"sk-item sk-dashed-wrapped\"><div class=\"sk-label-container\"><div class=\"sk-label sk-toggleable\"><input class=\"sk-toggleable__control sk-hidden--visually\" id=\"sk-estimator-id-1\" type=\"checkbox\" ><label for=\"sk-estimator-id-1\" class=\"sk-toggleable__label sk-toggleable__label-arrow\">GridSearchCV</label><div class=\"sk-toggleable__content\"><pre>GridSearchCV(cv=5, estimator=RandomForestRegressor(),\n",
       "             param_grid=[{&#x27;max_features&#x27;: [2, 4, 6, 8],\n",
       "                          &#x27;n_estimators&#x27;: [3, 10, 30]},\n",
       "                         {&#x27;bootstrap&#x27;: [False], &#x27;max_features&#x27;: [2, 3, 4],\n",
       "                          &#x27;n_estimators&#x27;: [3, 10]}],\n",
       "             return_train_score=True, scoring=&#x27;neg_mean_squared_error&#x27;)</pre></div></div></div><div class=\"sk-parallel\"><div class=\"sk-parallel-item\"><div class=\"sk-item\"><div class=\"sk-label-container\"><div class=\"sk-label sk-toggleable\"><input class=\"sk-toggleable__control sk-hidden--visually\" id=\"sk-estimator-id-2\" type=\"checkbox\" ><label for=\"sk-estimator-id-2\" class=\"sk-toggleable__label sk-toggleable__label-arrow\">estimator: RandomForestRegressor</label><div class=\"sk-toggleable__content\"><pre>RandomForestRegressor()</pre></div></div></div><div class=\"sk-serial\"><div class=\"sk-item\"><div class=\"sk-estimator sk-toggleable\"><input class=\"sk-toggleable__control sk-hidden--visually\" id=\"sk-estimator-id-3\" type=\"checkbox\" ><label for=\"sk-estimator-id-3\" class=\"sk-toggleable__label sk-toggleable__label-arrow\">RandomForestRegressor</label><div class=\"sk-toggleable__content\"><pre>RandomForestRegressor()</pre></div></div></div></div></div></div></div></div></div></div>"
      ],
      "text/plain": [
       "GridSearchCV(cv=5, estimator=RandomForestRegressor(),\n",
       "             param_grid=[{'max_features': [2, 4, 6, 8],\n",
       "                          'n_estimators': [3, 10, 30]},\n",
       "                         {'bootstrap': [False], 'max_features': [2, 3, 4],\n",
       "                          'n_estimators': [3, 10]}],\n",
       "             return_train_score=True, scoring='neg_mean_squared_error')"
      ]
     },
     "execution_count": 45,
     "metadata": {},
     "output_type": "execute_result"
    }
   ],
   "source": [
    "from sklearn.model_selection import GridSearchCV\n",
    "param_grid = [\n",
    "{'n_estimators': [3, 10, 30], 'max_features': [2, 4, 6, 8]},\n",
    "{'bootstrap': [False], 'n_estimators': [3, 10], 'max_features': [2, 3, 4]},]\n",
    "forest_reg = RandomForestRegressor()\n",
    "grid_search = GridSearchCV(forest_reg, param_grid, cv=5,scoring='neg_mean_squared_error',\n",
    "return_train_score=True)\n",
    "grid_search.fit(X_train_r, y_train_r)"
   ]
  },
  {
   "cell_type": "code",
   "execution_count": 46,
   "id": "82aefd36",
   "metadata": {
    "execution": {
     "iopub.execute_input": "2025-07-21T16:50:44.505735Z",
     "iopub.status.busy": "2025-07-21T16:50:44.505346Z",
     "iopub.status.idle": "2025-07-21T16:50:44.512078Z",
     "shell.execute_reply": "2025-07-21T16:50:44.510888Z"
    },
    "papermill": {
     "duration": 0.030551,
     "end_time": "2025-07-21T16:50:44.513972",
     "exception": false,
     "start_time": "2025-07-21T16:50:44.483421",
     "status": "completed"
    },
    "tags": []
   },
   "outputs": [
    {
     "data": {
      "text/plain": [
       "{'max_features': 8, 'n_estimators': 30}"
      ]
     },
     "execution_count": 46,
     "metadata": {},
     "output_type": "execute_result"
    }
   ],
   "source": [
    "grid_search.best_params_"
   ]
  },
  {
   "cell_type": "code",
   "execution_count": 47,
   "id": "b363b8d1",
   "metadata": {
    "execution": {
     "iopub.execute_input": "2025-07-21T16:50:44.556945Z",
     "iopub.status.busy": "2025-07-21T16:50:44.555984Z",
     "iopub.status.idle": "2025-07-21T16:50:44.561110Z",
     "shell.execute_reply": "2025-07-21T16:50:44.560042Z"
    },
    "papermill": {
     "duration": 0.02884,
     "end_time": "2025-07-21T16:50:44.563286",
     "exception": false,
     "start_time": "2025-07-21T16:50:44.534446",
     "status": "completed"
    },
    "tags": []
   },
   "outputs": [],
   "source": [
    "best_estimator=grid_search.best_estimator_"
   ]
  },
  {
   "cell_type": "markdown",
   "id": "4c52cad6",
   "metadata": {
    "papermill": {
     "duration": 0.019744,
     "end_time": "2025-07-21T16:50:44.603290",
     "exception": false,
     "start_time": "2025-07-21T16:50:44.583546",
     "status": "completed"
    },
    "tags": []
   },
   "source": [
    "## Evaluation"
   ]
  },
  {
   "cell_type": "code",
   "execution_count": 48,
   "id": "5ffe5b3f",
   "metadata": {
    "execution": {
     "iopub.execute_input": "2025-07-21T16:50:44.646166Z",
     "iopub.status.busy": "2025-07-21T16:50:44.645733Z",
     "iopub.status.idle": "2025-07-21T16:50:44.691393Z",
     "shell.execute_reply": "2025-07-21T16:50:44.690365Z"
    },
    "papermill": {
     "duration": 0.070192,
     "end_time": "2025-07-21T16:50:44.693899",
     "exception": false,
     "start_time": "2025-07-21T16:50:44.623707",
     "status": "completed"
    },
    "tags": []
   },
   "outputs": [
    {
     "data": {
      "text/html": [
       "<div>\n",
       "<style scoped>\n",
       "    .dataframe tbody tr th:only-of-type {\n",
       "        vertical-align: middle;\n",
       "    }\n",
       "\n",
       "    .dataframe tbody tr th {\n",
       "        vertical-align: top;\n",
       "    }\n",
       "\n",
       "    .dataframe thead th {\n",
       "        text-align: right;\n",
       "    }\n",
       "</style>\n",
       "<table border=\"1\" class=\"dataframe\">\n",
       "  <thead>\n",
       "    <tr style=\"text-align: right;\">\n",
       "      <th></th>\n",
       "      <th>MAE</th>\n",
       "      <th>R² Score</th>\n",
       "    </tr>\n",
       "  </thead>\n",
       "  <tbody>\n",
       "    <tr>\n",
       "      <th>0</th>\n",
       "      <td>0.43574</td>\n",
       "      <td>0.678603</td>\n",
       "    </tr>\n",
       "  </tbody>\n",
       "</table>\n",
       "</div>"
      ],
      "text/plain": [
       "       MAE  R² Score\n",
       "0  0.43574  0.678603"
      ]
     },
     "execution_count": 48,
     "metadata": {},
     "output_type": "execute_result"
    }
   ],
   "source": [
    "predict=best_estimator.predict(X_test_r)\n",
    "mae = mean_absolute_error(y_test_r, predict)\n",
    "r2 = r2_score(y_test_r, predict)\n",
    "final=[]\n",
    "final.append({\n",
    "        \"MAE\": mae,\n",
    "        \"R² Score\": r2\n",
    "    })\n",
    "\n",
    "finalresult = pd.DataFrame(final)\n",
    "finalresult"
   ]
  },
  {
   "cell_type": "code",
   "execution_count": null,
   "id": "61920ac2",
   "metadata": {
    "papermill": {
     "duration": 0.020416,
     "end_time": "2025-07-21T16:50:44.735122",
     "exception": false,
     "start_time": "2025-07-21T16:50:44.714706",
     "status": "completed"
    },
    "tags": []
   },
   "outputs": [],
   "source": []
  }
 ],
 "metadata": {
  "kaggle": {
   "accelerator": "none",
   "dataSources": [
    {
     "datasetId": 922457,
     "sourceId": 2288655,
     "sourceType": "datasetVersion"
    }
   ],
   "dockerImageVersionId": 30761,
   "isGpuEnabled": false,
   "isInternetEnabled": true,
   "language": "python",
   "sourceType": "notebook"
  },
  "kernelspec": {
   "display_name": "Python 3",
   "language": "python",
   "name": "python3"
  },
  "language_info": {
   "codemirror_mode": {
    "name": "ipython",
    "version": 3
   },
   "file_extension": ".py",
   "mimetype": "text/x-python",
   "name": "python",
   "nbconvert_exporter": "python",
   "pygments_lexer": "ipython3",
   "version": "3.10.14"
  },
  "papermill": {
   "default_parameters": {},
   "duration": 271.62761,
   "end_time": "2025-07-21T16:50:47.375832",
   "environment_variables": {},
   "exception": null,
   "input_path": "__notebook__.ipynb",
   "output_path": "__notebook__.ipynb",
   "parameters": {},
   "start_time": "2025-07-21T16:46:15.748222",
   "version": "2.6.0"
  }
 },
 "nbformat": 4,
 "nbformat_minor": 5
}
